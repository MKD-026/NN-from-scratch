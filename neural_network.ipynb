{
  "nbformat": 4,
  "nbformat_minor": 0,
  "metadata": {
    "colab": {
      "provenance": []
    },
    "kernelspec": {
      "name": "python3",
      "display_name": "Python 3"
    },
    "language_info": {
      "name": "python"
    }
  },
  "cells": [
    {
      "cell_type": "markdown",
      "source": [
        "# Importing libraries and dataset"
      ],
      "metadata": {
        "id": "BEygb4G6iLjj"
      }
    },
    {
      "cell_type": "code",
      "execution_count": 1,
      "metadata": {
        "id": "pZjiCE8-iGhZ"
      },
      "outputs": [],
      "source": [
        "import numpy as np\n",
        "import pandas as pd\n",
        "from matplotlib import pyplot as plt"
      ]
    },
    {
      "cell_type": "code",
      "source": [
        "data = pd.read_csv('/content/sample_data/mnist_train_small.csv')"
      ],
      "metadata": {
        "id": "nkM-e5AziKzS"
      },
      "execution_count": 2,
      "outputs": []
    },
    {
      "cell_type": "code",
      "source": [
        "data = np.array(data)\n",
        "m, n = data.shape\n",
        "print(m,n)"
      ],
      "metadata": {
        "colab": {
          "base_uri": "https://localhost:8080/"
        },
        "id": "vRCLJh4UiTOi",
        "outputId": "c7d64980-0cb3-44ba-8d10-3e08efe58a03"
      },
      "execution_count": 3,
      "outputs": [
        {
          "output_type": "stream",
          "name": "stdout",
          "text": [
            "19999 785\n"
          ]
        }
      ]
    },
    {
      "cell_type": "markdown",
      "source": [
        "# Checking dataset"
      ],
      "metadata": {
        "id": "wGJeoeqhjorT"
      }
    },
    {
      "cell_type": "code",
      "source": [
        "np.random.shuffle(data) # shuffle before splitting into dev and training sets"
      ],
      "metadata": {
        "id": "2pbqFyuJiZE5"
      },
      "execution_count": 4,
      "outputs": []
    },
    {
      "cell_type": "code",
      "source": [
        "data_dev = data[0:1000].T\n",
        "Y_dev = data_dev[0]\n",
        "X_dev = data_dev[1:n]\n",
        "X_dev = X_dev / 255.\n",
        "\n",
        "data_train = data[1000:m].T\n",
        "Y_train = data_train[0]\n",
        "X_train = data_train[1:n]\n",
        "X_train = X_train / 255.\n",
        "_,m_train = X_train.shape"
      ],
      "metadata": {
        "id": "HAUgQIHMiZkh"
      },
      "execution_count": 5,
      "outputs": []
    },
    {
      "cell_type": "code",
      "source": [
        "print(Y_train)"
      ],
      "metadata": {
        "colab": {
          "base_uri": "https://localhost:8080/"
        },
        "id": "VV_ZAzUWicq9",
        "outputId": "8473263b-394a-456f-ff2d-9e81c5937b2f"
      },
      "execution_count": 6,
      "outputs": [
        {
          "output_type": "stream",
          "name": "stdout",
          "text": [
            "[3 4 1 ... 0 4 2]\n"
          ]
        }
      ]
    },
    {
      "cell_type": "code",
      "source": [],
      "metadata": {
        "id": "yoEWjYKXif_L"
      },
      "execution_count": null,
      "outputs": []
    },
    {
      "cell_type": "markdown",
      "source": [
        "# Parameter initialization and activation function"
      ],
      "metadata": {
        "id": "Iw7hB1qyj3mp"
      }
    },
    {
      "cell_type": "code",
      "source": [
        "def init_params():\n",
        "    W1 = np.random.rand(10, 784) - 0.5\n",
        "    b1 = np.random.rand(10, 1) - 0.5\n",
        "    W2 = np.random.rand(10, 10) - 0.5\n",
        "    b2 = np.random.rand(10, 1) - 0.5\n",
        "    return W1, b1, W2, b2\n",
        "\n",
        "def ReLU(Z):\n",
        "    return np.maximum(Z, 0)\n",
        "\n",
        "def softmax(Z):\n",
        "    A = np.exp(Z) / sum(np.exp(Z))\n",
        "    return A\n",
        "\n",
        "def ReLU_deriv(Z):\n",
        "    return Z > 0"
      ],
      "metadata": {
        "id": "JB1NuDZ4kIn0"
      },
      "execution_count": 8,
      "outputs": []
    },
    {
      "cell_type": "code",
      "source": [
        "def one_hot(Y):\n",
        "    one_hot_Y = np.zeros((Y.size, Y.max() + 1))\n",
        "    one_hot_Y[np.arange(Y.size), Y] = 1\n",
        "    one_hot_Y = one_hot_Y.T\n",
        "    return one_hot_Y"
      ],
      "metadata": {
        "id": "8iZBmoMwkQeh"
      },
      "execution_count": 9,
      "outputs": []
    },
    {
      "cell_type": "markdown",
      "source": [
        "# Creating forward propagation, backward propagation, and updating parameters"
      ],
      "metadata": {
        "id": "bbDnI2UZjsbh"
      }
    },
    {
      "cell_type": "code",
      "source": [
        "def forward_prop(W1, b1, W2, b2, X):\n",
        "    Z1 = W1.dot(X) + b1\n",
        "    A1 = ReLU(Z1)\n",
        "    Z2 = W2.dot(A1) + b2\n",
        "    A2 = softmax(Z2)\n",
        "    return Z1, A1, Z2, A2\n",
        "\n",
        "def backward_prop(Z1, A1, Z2, A2, W1, W2, X, Y):\n",
        "    one_hot_Y = one_hot(Y)\n",
        "    dZ2 = A2 - one_hot_Y\n",
        "    dW2 = 1 / m * dZ2.dot(A1.T)\n",
        "    db2 = 1 / m * np.sum(dZ2)\n",
        "    dZ1 = W2.T.dot(dZ2) * ReLU_deriv(Z1)\n",
        "    dW1 = 1 / m * dZ1.dot(X.T)\n",
        "    db1 = 1 / m * np.sum(dZ1)\n",
        "    return dW1, db1, dW2, db2\n",
        "\n",
        "def update_params(W1, b1, W2, b2, dW1, db1, dW2, db2, alpha):\n",
        "    W1 = W1 - alpha * dW1\n",
        "    b1 = b1 - alpha * db1\n",
        "    W2 = W2 - alpha * dW2\n",
        "    b2 = b2 - alpha * db2\n",
        "    return W1, b1, W2, b2"
      ],
      "metadata": {
        "id": "QHjZDy9nj2sx"
      },
      "execution_count": 10,
      "outputs": []
    },
    {
      "cell_type": "code",
      "source": [],
      "metadata": {
        "id": "gRXQQnNHkVZ7"
      },
      "execution_count": null,
      "outputs": []
    },
    {
      "cell_type": "markdown",
      "source": [
        "# Prediction, Accuracy and Gradient Descent"
      ],
      "metadata": {
        "id": "tyHVQsUJkXdC"
      }
    },
    {
      "cell_type": "code",
      "source": [
        "def get_predictions(A2):\n",
        "    return np.argmax(A2, 0)\n",
        "\n",
        "def get_accuracy(predictions, Y):\n",
        "    print(predictions, Y)\n",
        "    return np.sum(predictions == Y) / Y.size\n",
        "\n",
        "def gradient_descent(X, Y, alpha, iterations):\n",
        "    W1, b1, W2, b2 = init_params()\n",
        "    for i in range(iterations):\n",
        "        Z1, A1, Z2, A2 = forward_prop(W1, b1, W2, b2, X)\n",
        "        dW1, db1, dW2, db2 = backward_prop(Z1, A1, Z2, A2, W1, W2, X, Y)\n",
        "        W1, b1, W2, b2 = update_params(W1, b1, W2, b2, dW1, db1, dW2, db2, alpha)\n",
        "        if i % 10 == 0:\n",
        "            print(\"Iteration: \", i)\n",
        "            predictions = get_predictions(A2)\n",
        "            print(get_accuracy(predictions, Y))\n",
        "    return W1, b1, W2, b2"
      ],
      "metadata": {
        "id": "AbR4Yepnka4l"
      },
      "execution_count": 11,
      "outputs": []
    },
    {
      "cell_type": "markdown",
      "source": [
        "# Training"
      ],
      "metadata": {
        "id": "09fvIDARkiKS"
      }
    },
    {
      "cell_type": "code",
      "source": [
        "W1, b1, W2, b2 = gradient_descent(X_train, Y_train, 0.18, 250)"
      ],
      "metadata": {
        "colab": {
          "base_uri": "https://localhost:8080/"
        },
        "id": "rOEhAhodkjWF",
        "outputId": "67522555-d5d8-4eb3-e177-b2cce2197181"
      },
      "execution_count": 12,
      "outputs": [
        {
          "output_type": "stream",
          "name": "stdout",
          "text": [
            "Iteration:  0\n",
            "[3 3 3 ... 3 3 3] [3 4 1 ... 0 4 2]\n",
            "0.10432128006737197\n",
            "Iteration:  10\n",
            "[3 7 1 ... 0 7 2] [3 4 1 ... 0 4 2]\n",
            "0.25806621401126373\n",
            "Iteration:  20\n",
            "[3 7 1 ... 0 9 2] [3 4 1 ... 0 4 2]\n",
            "0.3568082530659508\n",
            "Iteration:  30\n",
            "[3 9 1 ... 0 9 2] [3 4 1 ... 0 4 2]\n",
            "0.4319701036896679\n",
            "Iteration:  40\n",
            "[3 9 1 ... 0 9 2] [3 4 1 ... 0 4 2]\n",
            "0.4769198378862045\n",
            "Iteration:  50\n",
            "[3 9 1 ... 0 9 2] [3 4 1 ... 0 4 2]\n",
            "0.5193431233222802\n",
            "Iteration:  60\n",
            "[3 9 1 ... 0 9 2] [3 4 1 ... 0 4 2]\n",
            "0.563555976630349\n",
            "Iteration:  70\n",
            "[3 9 1 ... 0 9 2] [3 4 1 ... 0 4 2]\n",
            "0.6049792094320754\n",
            "Iteration:  80\n",
            "[3 9 1 ... 0 9 2] [3 4 1 ... 0 4 2]\n",
            "0.6512448023580188\n",
            "Iteration:  90\n",
            "[3 4 1 ... 0 4 2] [3 4 1 ... 0 4 2]\n",
            "0.6844570766882467\n",
            "Iteration:  100\n",
            "[3 4 1 ... 0 4 2] [3 4 1 ... 0 4 2]\n",
            "0.7086162429601558\n",
            "Iteration:  110\n",
            "[3 4 1 ... 0 4 2] [3 4 1 ... 0 4 2]\n",
            "0.7266698247276172\n",
            "Iteration:  120\n",
            "[3 4 1 ... 0 4 2] [3 4 1 ... 0 4 2]\n",
            "0.7420916890362651\n",
            "Iteration:  130\n",
            "[3 4 1 ... 0 4 2] [3 4 1 ... 0 4 2]\n",
            "0.7545133954418654\n",
            "Iteration:  140\n",
            "[3 4 1 ... 0 4 2] [3 4 1 ... 0 4 2]\n",
            "0.7658824148639402\n",
            "Iteration:  150\n",
            "[3 4 1 ... 0 4 2] [3 4 1 ... 0 4 2]\n",
            "0.7747776198747303\n",
            "Iteration:  160\n",
            "[3 4 1 ... 0 4 2] [3 4 1 ... 0 4 2]\n",
            "0.7839886309805779\n",
            "Iteration:  170\n",
            "[3 4 1 ... 0 4 2] [3 4 1 ... 0 4 2]\n",
            "0.7922522238012527\n",
            "Iteration:  180\n",
            "[3 4 1 ... 0 4 2] [3 4 1 ... 0 4 2]\n",
            "0.7990420548449918\n",
            "Iteration:  190\n",
            "[3 4 1 ... 0 4 2] [3 4 1 ... 0 4 2]\n",
            "0.8050423706510869\n",
            "Iteration:  200\n",
            "[3 4 1 ... 0 4 2] [3 4 1 ... 0 4 2]\n",
            "0.8102531712195379\n",
            "Iteration:  210\n",
            "[3 4 1 ... 0 4 2] [3 4 1 ... 0 4 2]\n",
            "0.8152534343912837\n",
            "Iteration:  220\n",
            "[3 4 1 ... 0 4 2] [3 4 1 ... 0 4 2]\n",
            "0.8202010632138533\n",
            "Iteration:  230\n",
            "[3 4 1 ... 0 4 2] [3 4 1 ... 0 4 2]\n",
            "0.8238328333070162\n",
            "Iteration:  240\n",
            "[3 4 1 ... 0 4 2] [3 4 1 ... 0 4 2]\n",
            "0.8282014842886468\n"
          ]
        }
      ]
    },
    {
      "cell_type": "code",
      "source": [],
      "metadata": {
        "id": "hXaSUjPXklal"
      },
      "execution_count": null,
      "outputs": []
    },
    {
      "cell_type": "markdown",
      "source": [
        "# Testing"
      ],
      "metadata": {
        "id": "n4iT4TpWkwZb"
      }
    },
    {
      "cell_type": "code",
      "source": [
        "def make_predictions(X, W1, b1, W2, b2):\n",
        "    _, _, _, A2 = forward_prop(W1, b1, W2, b2, X)\n",
        "    predictions = get_predictions(A2)\n",
        "    return predictions\n",
        "\n",
        "def test_prediction(index, W1, b1, W2, b2):\n",
        "    current_image = X_train[:, index, None]\n",
        "    prediction = make_predictions(X_train[:, index, None], W1, b1, W2, b2)\n",
        "    label = Y_train[index]\n",
        "    print(\"Prediction: \", prediction)\n",
        "    print(\"Label: \", label)\n",
        "\n",
        "    current_image = current_image.reshape((28, 28)) * 255\n",
        "    plt.gray()\n",
        "    plt.imshow(current_image, interpolation='nearest')\n",
        "    plt.show()"
      ],
      "metadata": {
        "id": "Y8W8md9NkxCa"
      },
      "execution_count": 13,
      "outputs": []
    },
    {
      "cell_type": "code",
      "source": [
        "test_prediction(0, W1, b1, W2, b2)"
      ],
      "metadata": {
        "colab": {
          "base_uri": "https://localhost:8080/",
          "height": 462
        },
        "id": "WhKEX8tikxQi",
        "outputId": "d3989157-b50e-4e65-a8f0-b439d8698f00"
      },
      "execution_count": 14,
      "outputs": [
        {
          "output_type": "stream",
          "name": "stdout",
          "text": [
            "Prediction:  [3]\n",
            "Label:  3\n"
          ]
        },
        {
          "output_type": "display_data",
          "data": {
            "text/plain": [
              "<Figure size 640x480 with 1 Axes>"
            ],
            "image/png": "[encoded data removed]"
          },
          "metadata": {}
        }
      ]
    },
    {
      "cell_type": "code",
      "source": [
        "test_prediction(1, W1, b1, W2, b2)"
      ],
      "metadata": {
        "colab": {
          "base_uri": "https://localhost:8080/",
          "height": 462
        },
        "id": "_L2le12Mk0wx",
        "outputId": "2096be44-930c-42a7-fc58-177202b86d6c"
      },
      "execution_count": 15,
      "outputs": [
        {
          "output_type": "stream",
          "name": "stdout",
          "text": [
            "Prediction:  [4]\n",
            "Label:  4\n"
          ]
        },
        {
          "output_type": "display_data",
          "data": {
            "text/plain": [
              "<Figure size 640x480 with 1 Axes>"
            ],
            "image/png": "[encoded data removed]"
          },
          "metadata": {}
        }
      ]
    },
    {
      "cell_type": "code",
      "source": [
        "# testing accuracy\n",
        "dev_predictions = make_predictions(X_dev, W1, b1, W2, b2)"
      ],
      "metadata": {
        "id": "kaceJg3Dk1xN"
      },
      "execution_count": 18,
      "outputs": []
    },
    {
      "cell_type": "code",
      "source": [
        "get_accuracy(dev_predictions, Y_dev)"
      ],
      "metadata": {
        "colab": {
          "base_uri": "https://localhost:8080/"
        },
        "id": "V4wYM28ik9CC",
        "outputId": "a504a81f-82d7-4a05-8429-6c67d1f6dd2a"
      },
      "execution_count": 23,
      "outputs": [
        {
          "output_type": "stream",
          "name": "stdout",
          "text": [
            "[8 7 9 7 0 0 3 8 6 5 3 0 7 5 5 0 1 9 8 6 6 2 1 1 5 3 4 9 0 5 7 2 4 8 3 2 7\n",
            " 2 4 9 0 5 7 6 9 1 4 3 4 8 3 1 3 4 9 2 1 3 6 2 8 3 1 8 2 9 9 3 8 8 0 2 7 6\n",
            " 6 4 9 6 1 1 3 9 9 4 1 7 4 6 6 1 8 7 7 4 9 4 0 7 1 7 1 5 1 3 3 4 9 3 6 0 0\n",
            " 0 9 9 1 7 2 5 5 6 0 1 2 5 4 4 4 0 5 0 1 4 4 8 8 8 5 1 6 9 0 4 4 9 2 0 3 7\n",
            " 7 9 9 0 7 7 9 0 2 7 4 3 7 2 9 9 7 5 3 9 1 8 1 5 0 6 1 6 1 0 6 4 2 4 0 5 3\n",
            " 1 4 1 7 4 9 9 9 0 6 3 6 1 2 9 3 3 7 8 2 6 9 3 8 0 6 8 0 4 7 0 0 9 4 9 9 5\n",
            " 1 2 7 0 7 9 2 8 2 5 4 9 8 1 2 0 7 4 2 9 0 9 4 4 2 7 6 0 6 3 0 2 6 9 2 9 4\n",
            " 7 8 5 6 4 5 8 1 3 5 4 6 4 0 2 3 2 9 7 9 5 0 4 1 7 7 5 9 9 3 9 3 4 8 1 3 8\n",
            " 4 7 8 0 4 6 3 0 1 5 9 7 6 0 4 1 4 9 7 4 7 3 3 2 5 6 4 7 0 8 8 3 8 7 0 8 7\n",
            " 7 9 3 7 6 0 1 7 9 3 0 2 5 4 8 9 0 7 8 0 5 1 2 4 7 8 6 2 5 0 5 2 5 2 9 3 9\n",
            " 4 2 3 0 9 3 1 0 0 4 3 3 8 4 1 1 7 8 4 7 7 9 6 7 0 1 9 4 1 1 7 7 0 1 5 3 0\n",
            " 1 6 6 1 6 1 1 0 4 4 2 0 1 1 2 2 1 3 3 2 0 0 2 8 3 1 5 8 6 0 0 3 9 0 7 2 5\n",
            " 7 7 0 6 7 1 1 5 3 0 6 7 5 9 7 2 6 0 7 3 7 4 2 0 1 6 3 9 7 3 0 3 6 4 3 2 8\n",
            " 3 6 1 1 4 5 2 4 0 4 0 5 6 6 3 5 1 2 4 7 5 6 6 4 2 4 0 2 8 9 7 9 6 6 7 3 9\n",
            " 4 1 7 8 9 6 8 8 8 2 1 0 3 9 4 9 4 0 8 7 0 1 8 0 3 5 5 4 6 6 7 1 2 1 0 5 1\n",
            " 3 1 0 3 2 8 4 3 9 6 2 3 8 0 8 4 3 0 7 8 6 3 9 5 8 7 2 3 4 6 5 6 1 7 0 3 1\n",
            " 7 2 0 3 9 1 5 6 3 1 7 8 6 0 0 3 7 3 3 7 5 3 5 8 4 9 7 6 0 1 2 3 9 6 6 6 0\n",
            " 0 3 9 6 8 3 3 7 9 0 7 2 0 6 9 4 9 7 6 3 9 2 6 9 5 9 9 1 6 6 6 1 0 8 8 7 4\n",
            " 2 9 2 2 6 5 9 6 3 0 6 3 8 2 8 9 9 1 4 0 9 8 2 5 0 7 7 8 0 6 0 0 0 4 3 2 2\n",
            " 2 8 3 4 8 6 7 3 2 8 3 9 0 3 6 0 1 3 1 8 4 1 5 4 7 4 7 4 9 3 6 2 4 5 7 3 4\n",
            " 6 6 6 0 1 5 4 2 9 9 6 2 6 4 8 3 3 6 6 2 0 9 1 8 5 8 1 7 6 4 7 9 1 4 8 0 8\n",
            " 1 7 8 1 3 5 2 2 4 6 9 9 0 3 4 4 6 0 1 8 0 2 8 2 6 3 1 9 6 7 6 8 9 0 6 1 4\n",
            " 5 1 6 9 9 8 4 1 0 7 3 4 4 7 3 3 2 3 6 5 6 9 1 1 6 4 6 8 8 2 1 2 7 3 1 1 9\n",
            " 9 8 7 5 6 1 4 6 9 1 8 9 1 5 3 0 5 8 2 9 2 2 9 2 5 4 7 7 1 1 2 3 1 3 9 7 2\n",
            " 9 0 5 3 5 4 0 2 4 7 0 4 7 4 9 3 9 9 3 6 6 5 5 1 4 9 6 1 2 2 3 4 5 4 7 1 9\n",
            " 5 7 1 3 2 4 8 7 1 6 6 1 9 8 3 8 6 7 0 8 4 4 8 8 2 5 2 1 4 0 6 8 9 6 9 5 9\n",
            " 5 0 8 7 1 1 2 3 7 6 0 1 0 0 4 6 6 8 1 1 8 9 1 7 0 1 0 6 6 3 4 9 5 0 5 9 3\n",
            " 4] [8 7 9 7 0 0 3 8 6 5 3 5 7 5 3 0 2 9 9 6 6 2 1 2 5 3 4 9 0 5 7 3 6 9 3 2 7\n",
            " 2 4 9 0 5 7 6 9 1 4 3 4 8 3 1 3 4 9 2 1 3 6 2 8 3 1 8 2 9 9 3 8 8 0 2 7 6\n",
            " 6 4 9 6 1 1 3 9 9 4 1 7 4 6 6 1 8 7 7 9 9 4 0 3 1 9 1 5 1 5 3 2 9 3 6 0 0\n",
            " 0 9 4 1 7 7 5 5 6 0 1 2 3 4 6 4 0 8 0 1 4 4 8 9 8 5 1 5 9 0 9 4 9 2 0 3 7\n",
            " 7 9 9 0 7 7 7 0 2 3 4 3 7 2 9 9 7 5 3 9 1 8 1 0 0 6 1 6 1 0 6 4 4 9 0 5 5\n",
            " 1 4 1 7 4 4 9 9 0 6 3 5 1 2 9 5 3 7 8 6 6 3 3 6 0 6 8 0 4 7 0 0 9 4 9 9 5\n",
            " 1 2 7 0 7 4 2 8 2 5 4 9 5 1 2 0 8 4 2 9 0 9 4 4 2 7 6 0 4 3 0 6 6 9 2 9 4\n",
            " 7 8 5 5 4 5 8 7 5 3 4 6 4 0 2 3 2 9 7 9 5 0 4 1 7 7 8 3 7 3 9 3 4 5 1 9 8\n",
            " 4 7 8 0 4 8 5 0 1 5 8 7 6 0 4 1 9 9 7 4 7 3 3 2 5 6 4 5 5 8 9 3 9 7 0 8 7\n",
            " 7 9 3 7 6 9 1 7 9 3 0 2 5 4 8 9 0 7 8 0 5 1 2 4 9 8 6 2 5 0 0 1 5 2 9 3 9\n",
            " 9 2 3 0 9 5 1 0 0 4 3 3 8 4 1 1 7 5 4 7 7 9 6 7 0 1 9 4 1 1 7 9 0 1 5 3 0\n",
            " 1 6 6 1 5 1 1 0 2 4 2 5 1 1 2 1 1 5 3 2 0 0 2 8 3 1 5 2 6 0 0 3 9 0 7 2 5\n",
            " 7 7 0 6 7 1 1 5 3 0 6 9 3 9 9 2 6 0 7 3 7 4 2 0 1 6 5 9 7 3 0 1 6 9 3 4 8\n",
            " 3 6 1 1 4 5 2 4 0 4 9 8 6 4 3 5 1 2 4 7 5 0 6 2 2 4 0 2 8 9 7 9 8 5 7 3 8\n",
            " 4 1 7 8 9 6 8 8 8 2 1 0 2 9 4 9 4 6 8 7 0 1 8 0 3 5 5 4 6 6 2 1 8 5 0 1 1\n",
            " 3 1 8 3 1 9 4 3 9 6 2 3 8 2 1 4 3 0 7 3 6 3 4 5 8 7 2 3 4 6 5 6 1 3 0 3 1\n",
            " 7 2 0 3 9 1 0 6 3 1 7 8 6 0 0 3 7 3 5 7 5 3 5 8 6 9 4 6 0 1 2 3 9 6 6 1 0\n",
            " 0 8 9 6 8 3 3 7 9 0 7 5 0 6 9 4 9 7 6 3 2 2 5 9 5 9 4 1 6 6 5 1 0 8 3 7 4\n",
            " 2 5 2 3 6 5 9 6 3 0 6 3 8 2 8 4 9 1 4 0 5 8 2 3 0 7 7 8 0 6 0 0 0 4 2 2 2\n",
            " 2 8 3 4 5 6 7 3 6 5 3 4 0 3 6 0 1 3 1 8 7 1 5 4 5 4 7 4 9 3 6 8 4 5 7 3 4\n",
            " 6 4 6 0 1 5 4 2 9 9 6 2 6 9 8 8 3 2 6 2 0 9 1 8 5 8 3 7 6 4 9 9 1 4 8 0 8\n",
            " 1 7 8 1 2 3 3 5 4 6 9 9 0 5 4 4 6 0 1 8 0 2 8 2 6 0 1 9 6 9 6 8 9 0 6 1 4\n",
            " 5 1 6 9 9 8 7 1 0 7 3 4 9 7 3 5 2 3 6 6 6 5 1 1 6 4 6 8 9 2 1 2 7 3 1 1 9\n",
            " 9 2 7 5 6 1 4 6 9 1 8 9 1 9 3 0 2 8 2 9 2 2 9 4 5 4 7 7 1 1 2 3 1 3 7 7 2\n",
            " 9 0 3 3 5 6 0 9 4 7 0 4 7 4 9 5 9 9 3 6 6 5 7 3 4 8 6 1 2 2 3 4 3 4 7 1 9\n",
            " 5 7 1 3 2 4 8 7 1 6 6 1 9 8 3 5 6 9 0 8 4 4 8 8 2 0 3 9 4 0 5 8 9 6 7 7 5\n",
            " 5 0 8 7 1 1 2 3 7 6 0 1 0 0 4 6 6 8 1 1 8 9 1 7 0 1 0 6 6 3 4 9 3 0 5 4 3\n",
            " 5]\n"
          ]
        },
        {
          "output_type": "execute_result",
          "data": {
            "text/plain": [
              "0.833"
            ]
          },
          "metadata": {},
          "execution_count": 23
        }
      ]
    },
    {
      "cell_type": "code",
      "source": [],
      "metadata": {
        "id": "2VdWX8jjlk4t"
      },
      "execution_count": null,
      "outputs": []
    }
  ]
}